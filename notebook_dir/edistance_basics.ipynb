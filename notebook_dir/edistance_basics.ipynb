{
 "cells": [
  {
   "cell_type": "markdown",
   "id": "4f19c244",
   "metadata": {},
   "source": [
    "# Euclidean distance, step by step\n",
    "\n",
    "The Euclidean distance formula is used to find the distance between two points on a plane.\n",
    "\n",
    "In the following cells we have 3 examples:\n",
    "- Random arrays\n",
    "- One array of ones and one array of zeros.\n",
    "- Two arrays of ones."
   ]
  },
  {
   "cell_type": "code",
   "execution_count": null,
   "id": "d3b9e62b",
   "metadata": {},
   "outputs": [],
   "source": [
    "import numpy as np\n",
    "\n",
    "# Step 1: Create two random arrays of 5 elements each\n",
    "array1 = np.random.rand(5)\n",
    "array2 = np.random.rand(5)\n",
    "# Are diferent (ones and zeros)\n",
    "#array1 = np.zeros(5)\n",
    "#array2 = np.ones(5)\n",
    "# Are equal\n",
    "#array1 = np.ones(5)\n",
    "#array2 = np.ones(5)\n",
    "\n",
    "# Step 2: Display the arrays\n",
    "print(\"Array 1:\", array1)\n",
    "print(\"Array 2:\", array2)"
   ]
  },
  {
   "cell_type": "code",
   "execution_count": null,
   "id": "c653681d",
   "metadata": {},
   "outputs": [],
   "source": [
    "# Step 3: Calculate the difference between corresponding elements\n",
    "difference = array1 - array2\n",
    "print(\"Difference:\", difference)"
   ]
  },
  {
   "cell_type": "code",
   "execution_count": null,
   "id": "4b78acf4",
   "metadata": {},
   "outputs": [],
   "source": [
    "# Step 4: Square the differences\n",
    "squared_difference = difference**2\n",
    "print(\"Squared Difference:\", squared_difference)"
   ]
  },
  {
   "cell_type": "code",
   "execution_count": null,
   "id": "8153daad",
   "metadata": {},
   "outputs": [],
   "source": [
    "# Step 5: Sum the squared differences\n",
    "sum_squared_difference = np.sum(squared_difference)\n",
    "print(\"Sum of Squared Differences:\", sum_squared_difference)"
   ]
  },
  {
   "cell_type": "code",
   "execution_count": null,
   "id": "9d5422a4",
   "metadata": {},
   "outputs": [],
   "source": [
    "# Step 6: Take the square root of the sum\n",
    "euclidean_distance = np.sqrt(sum_squared_difference)\n",
    "print(\"Euclidean Distance:\", euclidean_distance)"
   ]
  }
 ],
 "metadata": {
  "kernelspec": {
   "display_name": "Python 3 (ipykernel)",
   "language": "python",
   "name": "python3"
  },
  "language_info": {
   "codemirror_mode": {
    "name": "ipython",
    "version": 3
   },
   "file_extension": ".py",
   "mimetype": "text/x-python",
   "name": "python",
   "nbconvert_exporter": "python",
   "pygments_lexer": "ipython3",
   "version": "3.11.3"
  }
 },
 "nbformat": 4,
 "nbformat_minor": 5
}
