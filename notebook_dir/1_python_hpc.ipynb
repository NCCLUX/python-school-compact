{
 "cells": [
  {
   "cell_type": "markdown",
   "id": "f1790ced",
   "metadata": {
    "jp-MarkdownHeadingCollapsed": true
   },
   "source": [
    "\n",
    "<hr style=\"height: 2px; background: linear-gradient(to right, #E31B1D 50%, #00A4DD 50%);\">\n",
    "\n",
    "<div style=\"display: flex;\">\n",
    "    \n",
    "<div style=\"width: 20%; text-align: left;\">\n",
    "    <img src=\"logos/hpc_logo.png\" alt=\"HPC logo\" width=\"100px\">\n",
    "</div>\n",
    "\n",
    "<div style=\"width: 60%; text-align: center;\">\n",
    "    <strong><center><font size = \"6\">Array Operations with Python parallel packages</font></center></strong>\n",
    "    <br>\n",
    "    <strong><center><font size = \"4\">Python + HPC</font></center></strong>\n",
    "</div>\n",
    "\n",
    "<div style=\"width: 20%; text-align: right;display: flex; justify-content: center;align-items: center;\">\n",
    "    <img src=\"logos/unilu_logo.png\" alt=\"UL logo\" width=\"100px\">\n",
    "</div>\n",
    "    \n",
    "</div>\n",
    "\n",
    "<hr style=\"height: 2px; background: linear-gradient(to right, #E31B1D 50%, #00A4DD 50%);\">\n",
    "\n",
    "By: **Oscar J. CASTRO-LOPEZ** (oscar.castro@uni.lu)\n",
    "\n",
    "**University of Luxembourg | HPC | PCOG**\n",
    "\n",
    "<hr>\n",
    "\n",
    "## Table of Contents\n",
    "\n",
    "0. [Workshop Overview](#workshopoverview)\n",
    "1. [Use case: Euclidean distance](#usecase)\n",
    "2. [Python Baseline](#python)\n",
    "3. [Numpy Implementation](#numpy)\n",
    "4. [Python Multiprocessing](#multiproc)\n",
    "5. [PyMP](#pymp)\n",
    "7. [Numba](#numba)\n",
    "7. [Pandas + Numba](#numba)\n",
    "8. [Benchmarking](#benchmarking)\n",
    "9. [Conclusion](#conclusions)\n",
    "\n",
    "\n",
    "## 0. Workshop Overview <a name=\"workshopoverview\"></a>\n",
    "\n",
    "Welcome to the **Python + HPC workshop**. In this interactive session, we will start to explore high-performance computing in Python. We'll optimize Python code using the Euclidean distance measurement algorithm, showcasing the efficiency of map multiprocessing, PyMP, and Numba versus Numpy. By the end, you'll master Python's potential for high-performance tasks in a HPC environment.\n",
    "\n",
    "### Prerequisites \n",
    "\n",
    "Before we begin, please make sure you have the following:\n",
    "\n",
    "- A basic understanding of Python programming.\n",
    "- Familiarity with Jupyter Notebook (installed and configured). \n",
    "- A basic understanding of Numpy and linear algebra.\n",
    "- Familiarity of parallel computing.\n",
    "\n",
    "### Agenda\n",
    "\n",
    "1. **Use case overview**\n",
    "2. **Python baseline**\n",
    "3. **Numpy implementation**\n",
    "4. **Python Multiprocessing**\n",
    "5. **PyMP - OpenMP-like**\n",
    "6. **Numba implementation**\n",
    "7. **Pandas + Numba**\n",
    "7. **Benchmarking**\n",
    "3. **Conclusion**\n",
    "\n",
    "### Workshop Key Goals\n",
    "The primary objectives of this workshop are:\n",
    "\n",
    "- To provide a basic understanding of parallelizing python code.\n",
    "- To equip you with practical skills on how to efficiently improve Python code with parallel approach.\n",
    "- Give a general overview of parallelization tools available in Python's ecosystem.\n",
    "\n",
    "Let's get started!\n",
    "\n",
    "<hr style=\"height: 2px; background: linear-gradient(to right, #E31B1D 50%, #00A4DD 50%);\">"
   ]
  },
  {
   "cell_type": "markdown",
   "id": "9a13a1ca",
   "metadata": {},
   "source": [
    "## 1. Use Case: Euclidean Distance <a name=\"usecase\"></a>\n",
    "    \n",
    "In this notebook, the Euclidean distance measurement algorithm is employed as an illustrative example to showcase the effective utilization of map multiprocessing against Numpy.\n",
    "\n",
    "https://en.wikipedia.org/wiki/Euclidean_distance\n",
    "\n",
    "The Euclidean distance between two points P = (p1, p2, ..., pn) and Q = (q1, q2, ..., qn) in n-dimensional space is calculated using the following formula:\n",
    "\n",
    "$$d(P, Q) = \\sqrt{(p_1 - q_1)^2 + (p_2 - q_2)^2 + \\ldots + (p_n - q_n)^2}$$\n",
    "\n",
    "In the formula, $d(P, Q)$ represents the Euclidean distance between points $P$ and $Q$, $\\sqrt{\\ldots}$ denotes the square root operation, and $(p1 - q1)^2$ represents the squared difference between the corresponding coordinates of the points.\n",
    "\n",
    "### Generate random data for testing\n",
    "\n",
    "The following code generates two matrices of random numbers.\n"
   ]
  },
  {
   "cell_type": "code",
   "execution_count": null,
   "id": "38209d14",
   "metadata": {},
   "outputs": [],
   "source": [
    "import numpy as np\n",
    "rows = 500\n",
    "cols = 500\n",
    "np.random.seed(699)\n",
    "A = np.random.rand(rows*cols).reshape((rows,cols))\n",
    "B = np.random.rand(rows*cols).reshape((rows,cols))\n",
    "print(f'A shape {A.shape}')\n",
    "print(f'B shape {A.shape}')"
   ]
  },
  {
   "cell_type": "markdown",
   "id": "4797a5ab",
   "metadata": {},
   "source": [
    "## 2. Python baseline implementation <a name=\"python\"></a>\n",
    "\n",
    "To facilitate understanding the implementation a first step-by-step function using only Python is presented. Three loops are required:\n",
    "\n",
    "- The first loop is used to iterate over each row of matrix1. \n",
    "- The second loop is used to iterate over each row of matrix2. \n",
    "- The third and most inner loop iterates over the columns (both matrices must have the same number of columns). \n",
    "\n",
    "In the inner loop is where the operations difference, squared and sum of values is done. \n",
    "\n",
    "Each time the third loop ends, the `sqrt` function is applied to the result and assigned to its index on the output array."
   ]
  },
  {
   "cell_type": "code",
   "execution_count": null,
   "id": "61948d9f",
   "metadata": {},
   "outputs": [],
   "source": [
    "from math import sqrt\n",
    "\n",
    "def edistance_python(matrix1, matrix2):\n",
    "    output = np.zeros((matrix1.shape[0], matrix2.shape[0]))\n",
    "    for i in range(matrix1.shape[0]): # Loop over matrix1 rows\n",
    "        for j in range(matrix2.shape[0]): # Loop over matrix2 rows\n",
    "            sum_squared_diff = 0.0\n",
    "            for k in range(matrix1.shape[1]): # Loop over two matrices columns\n",
    "                diff = matrix1[i, k] - matrix2[j, k] # Get difference\n",
    "                squared_diff = diff ** 2 # Get squared difference\n",
    "                sum_squared_diff += squared_diff # Sum results\n",
    "            output[i, j] = sqrt(sum_squared_diff) # Square root\n",
    "    return output\n",
    "\n",
    "result_python = edistance_python(A, B)"
   ]
  },
  {
   "cell_type": "code",
   "execution_count": null,
   "id": "afa02b5e",
   "metadata": {},
   "outputs": [],
   "source": [
    "time_python = %timeit -n1 -r1 -o result_python = edistance_python(A, B) \n",
    "#time_python = %timeit -o result_python = edistance_python(A, B) #this takes longer,"
   ]
  },
  {
   "cell_type": "markdown",
   "id": "b85af54e",
   "metadata": {},
   "source": [
    "## 3. Numpy implementation <a name=\"numpy\"></a>\n",
    "\n",
    "In this implementation, we use a loop to iterate over each row of matrix1. Inside the loop we apply all the operations of the Euclidian distance (as stated in the aforementioned equation). Thanks to broadcasting arrays principle used by Numpy we can avoid using another loop and we can make operations between a row and a matrix to make these operations. In the case of the ``np.sum()`` function we use ``axis=1`` so that the operation is between one row of matrix1 and all the rows of matrix2."
   ]
  },
  {
   "cell_type": "code",
   "execution_count": null,
   "id": "45409adf",
   "metadata": {},
   "outputs": [],
   "source": [
    "def edistance_numpy(matrix1, matrix2):\n",
    "    output = np.zeros((matrix1.shape[0], matrix2.shape[0]))\n",
    "    for i, row1 in enumerate(matrix1): # Loop over matrix1 rows\n",
    "        output[i] = np.sqrt(np.sum((row1 - matrix2)**2, axis=1))\n",
    "    return output\n",
    "\n",
    "result_numpy = edistance_numpy(A, B)"
   ]
  },
  {
   "cell_type": "code",
   "execution_count": null,
   "id": "f9eaccb6",
   "metadata": {},
   "outputs": [],
   "source": [
    "time_numpy = %timeit -o result_numpy = edistance_numpy(A, B)"
   ]
  },
  {
   "cell_type": "markdown",
   "id": "3041c000",
   "metadata": {},
   "source": [
    "## 4. Python's Multiprocessing <a name=\"multiproc\"></a>\n",
    "\n",
    "From https://docs.python.org/3/library/multiprocessing.html\n",
    "\n",
    "Multiprocessing is a package that supports spawning processes using an API similar to the threading module. The multiprocessing package offers both local and remote concurrency, effectively side-stepping the Global Interpreter Lock by using subprocesses instead of threads. Due to this, the multiprocessing module allows the programmer to fully leverage multiple processors on a given machine. It runs on both Unix and Windows.\n",
    "\n",
    "Basic example:\n",
    "\n",
    "```python\n",
    "from multiprocessing import Pool\n",
    "\n",
    "def f(x):\n",
    "    return x*x\n",
    "\n",
    "if __name__ == '__main__':\n",
    "    with Pool(5) as p:\n",
    "        print(p.map(f, [1, 2, 3]))\n",
    "```"
   ]
  },
  {
   "cell_type": "markdown",
   "id": "32c11c63",
   "metadata": {},
   "source": [
    "This code demonstrates the use of the multiprocessing module in Python to perform parallel processing using a pool of worker processes. Here's a breakdown of what the code does:\n",
    "\n",
    "- Define a function `f(x)` that takes an input x and returns the square of x. \n",
    "- Create a Pool object p with 5 worker processes using the with statement. The number 5 specifies the maximum number of worker processes to be used concurrently.\n",
    "- Use the `p.map()` method to distribute the function f to the worker processes with a list of inputs [1, 2, 3]. The map function takes the list of inputs and applies the function f to each input element in parallel.\n",
    "- Print the result of `p.map(f, [1, 2, 3])`. The map function returns a list of results, in this case, the squares of the input numbers, which are [1, 4, 9].\n",
    "\n",
    "Usage of pool.map():\n",
    "\n",
    "<h1>pool.map(function(), iterable)</h1>\n",
    "\n",
    "Iterable: an object which can be looped over or iterated over with the help of a for loop. Objects like lists, tuples, sets, dictionaries, strings, etc. are called iterables. \n",
    " \n",
    "In summary, this code creates a pool of 5 worker processes and uses them to apply the f function to a list of numbers in parallel, calculating the squares of those numbers. The result is printed to the console. This is a simple example of parallel processing to illustrate how the multiprocessing module can be used to distribute tasks across multiple processes for improved performance.\n",
    "\n",
    "The following code is a basic example of using pool of multiprocessing. We have a function that multiplies the input and prints the input, result and date-time. Then, we have another function that creates an array and inside a pool block we use map to apply the function to all the values of the array."
   ]
  },
  {
   "cell_type": "code",
   "execution_count": null,
   "id": "31dd798c",
   "metadata": {},
   "outputs": [],
   "source": [
    "from multiprocessing import Pool\n",
    "import datetime\n",
    "import time\n",
    "\n",
    "def f(x):\n",
    "    result = x*x\n",
    "    time.sleep(30) # emulate long runtime\n",
    "    print(f'Input: {x}| Result: {result}| Finish: {datetime.datetime.now()}\\n')\n",
    "    return result\n",
    "\n",
    "def test_mp(n=10):\n",
    "    arr = [x for x in range(n)]\n",
    "    with Pool(20) as p:\n",
    "        result = p.map(f, arr)\n",
    "    print(result)"
   ]
  },
  {
   "cell_type": "code",
   "execution_count": null,
   "id": "817ea504",
   "metadata": {},
   "outputs": [],
   "source": [
    "test_mp()"
   ]
  },
  {
   "cell_type": "markdown",
   "id": "4be76c13",
   "metadata": {},
   "source": [
    "The final result is the same. However, the order of computing can be different.\n",
    "\n",
    "The Pool class has different methods which allows tasks to be offloaded to the worker processes in a few different ways."
   ]
  },
  {
   "cell_type": "code",
   "execution_count": null,
   "id": "a03cf9be",
   "metadata": {},
   "outputs": [],
   "source": [
    "from multiprocessing import Pool, TimeoutError\n",
    "import time\n",
    "import os\n",
    "\n",
    "def f(x):\n",
    "    return x*x\n",
    "\n",
    "with Pool(processes=4) as pool:\n",
    "\n",
    "    # print \"[0, 1, 4,..., 81]\"\n",
    "    print(pool.map(f, range(10)))\n",
    "    print('--------------------------------')\n",
    "    # print same numbers in arbitrary order\n",
    "    for i in pool.imap_unordered(f, range(10)):\n",
    "        print(i)\n",
    "    print('--------------------------------')\n",
    "    # evaluate \"f(20)\" asynchronously\n",
    "    res = pool.apply_async(f, (20,))      # runs in *only* one process\n",
    "    print(res.get(timeout=1))             # prints \"400\"\n",
    "    print('--------------------------------')\n",
    "    # evaluate \"os.getpid()\" asynchronously\n",
    "    res = pool.apply_async(os.getpid, ()) # runs in *only* one process\n",
    "    print(res.get(timeout=1))             # prints the PID of that process\n",
    "    print('--------------------------------')\n",
    "    # launching multiple evaluations asynchronously *may* use more processes\n",
    "    multiple_results = [pool.apply_async(os.getpid, ()) for i in range(4)]\n",
    "    print([res.get(timeout=1) for res in multiple_results])\n",
    "    print('--------------------------------')\n",
    "    # make a single worker sleep for 10 seconds\n",
    "    res = pool.apply_async(time.sleep, (10,))\n",
    "    try:\n",
    "        print(res.get(timeout=1))\n",
    "    except TimeoutError:\n",
    "        print(\"We lacked patience and got a multiprocessing.TimeoutError\")\n",
    "\n",
    "    print(\"For the moment, the pool remains available for more work\")\n",
    "\n",
    "# exiting the 'with'-block has stopped the pool\n",
    "print(\"Now the pool is closed and no longer available\")"
   ]
  },
  {
   "cell_type": "markdown",
   "id": "89fa0f75",
   "metadata": {},
   "source": [
    "From the Python documentation:\n",
    "\n",
    "**map** A parallel equivalent of the map() built-in function (it supports only one iterable argument though, for multiple iterables see starmap()). It blocks until the result is ready.\n",
    "\n",
    "**imap**\n",
    "A lazier version of map(). The chunksize argument is the same as the one used by the map() method. For very long iterables using a large value for chunksize can make the job complete much faster than using the default value of 1.\n",
    "\n",
    "**imap_unordered**\n",
    "The same as imap() except that the ordering of the results from the returned iterator should be considered arbitrary. (Only when there is only one worker process is the order guaranteed to be \"correct\".)\n",
    "\n",
    "**apply_async**\n",
    "A variant of the apply() method which returns a AsyncResult object.\n",
    "- If callback is specified then it should be a callable which accepts a single argument. When the result becomes ready callback is applied to it, that is unless the call failed, in which case the error_callback is applied instead.\n",
    "- If error_callback is specified then it should be a callable which accepts a single argument. If the target function fails, then the error_callback is called with the exception instance.\n",
    "- Callbacks should complete immediately since otherwise the thread which handles the results will get blocked.\n",
    "\n",
    "\n",
    "<hr>\n",
    "\n",
    "We can use multiprocessing to parallelize the code of our previous function `edistance_np`. Instead of using a loop we can use a pool of processes where each process works with one row. For this we define a new function that works only with one row and the matrix.\n",
    "\n",
    "- First, we load the libraries for multiprocessing.\n",
    "- We use the logic of the Numpy function where we process a row and matrix inside a loop. But in this case, map is going to replace the loop.\n",
    "- We define an auxiliary function which is going to be called in parallel. This function, receives one parameter which is a pair/tuple of values. Inside the function, the parameter is assigned to two variables: row and matrix. This can be done similarly with `partial` or with `starmap`.\n",
    "- We define the main function that receives the two matrices and inside a `with` block we call the `pool.map()` function that receives the name of the function and a list comprehension that creates a list of pairs with rows and matrix.\n",
    "- Multiprocessing map function only works with iterable types. \n",
    "- To be consistent with the previous result we convert the result which is a list of lists into a numpy array."
   ]
  },
  {
   "cell_type": "code",
   "execution_count": null,
   "id": "2ab60fa7",
   "metadata": {},
   "outputs": [],
   "source": [
    "import multiprocessing as mp\n",
    "\n",
    "def edistance_mp(args):\n",
    "    row, matrix = args\n",
    "    return np.sqrt(np.sum((row - matrix) ** 2, axis=1))\n",
    "\n",
    "def edistance_multiproc(matrix1, matrix2):\n",
    "    n_processes = 5\n",
    "    with mp.Pool(n_processes) as pool:\n",
    "        # Pass the function and an iterable - This return a list of lists\n",
    "        # Complete the function\n",
    "\n",
    "    return np.array(results) # Convert the list to a Numpy array\n",
    "\n",
    "result_multiproc = edistance_multiproc(A, B)"
   ]
  },
  {
   "cell_type": "code",
   "execution_count": null,
   "id": "5af9419d",
   "metadata": {},
   "outputs": [],
   "source": [
    "time_multiproc = %timeit -o result_multiproc = edistance_multiproc(A, B)"
   ]
  },
  {
   "cell_type": "markdown",
   "id": "2c8ca585",
   "metadata": {},
   "source": [
    "## 5. PyMP - OpenMP-like library <a name=\"pymp\"></a>\n",
    "\n",
    "PyMP is a library that provides OpenMP-like functionality for parallel programming in Python. It allows you to write parallel code that can take advantage of multiple CPU cores. PyMP is designed to make it easier to parallelize loops in Python programs, similar to how OpenMP simplifies parallel programming in C and C++.\n",
    "\n",
    "https://github.com/classner/pymp\n",
    "\n",
    "**Install the library:**"
   ]
  },
  {
   "cell_type": "markdown",
   "id": "d7194666",
   "metadata": {},
   "source": [
    "The following Python code defines a function `f(x)` that calculates the square of a given input x and prints information about the input, result, and the current time.\n",
    "\n",
    "Then, we test function `f(x)` by utilizing the Pymp library for parallel computing. It creates an array arr of numbers from 0 to n-1 and a shared memory array output using Pymp. The script then runs a parallel loop using Pymp, where each iteration calls the function `f(x)` on a different element of the array. Finally, it prints the resulting shared array."
   ]
  },
  {
   "cell_type": "code",
   "execution_count": null,
   "id": "8dbaffa3",
   "metadata": {},
   "outputs": [],
   "source": [
    "import pymp\n",
    "import datetime\n",
    "import time\n",
    "\n",
    "def f(x):\n",
    "    result = x*x\n",
    "    time.sleep(15) # emulate long runtime of doing something\n",
    "    print(f'Input: {x}| Result: {result}| Finish: {datetime.datetime.now()}\\n')\n",
    "    return result\n",
    "\n",
    "def test_pymp(n=10):\n",
    "    arr = [x for x in range(n)]\n",
    "    output = pymp.shared.array((n, ), dtype='int')\n",
    "    with pymp.Parallel(10) as p: # Parallel loop\n",
    "        for index in p.range(n):\n",
    "            output[index] = f(index)\n",
    "    print(output)"
   ]
  },
  {
   "cell_type": "code",
   "execution_count": null,
   "id": "cd20f657",
   "metadata": {},
   "outputs": [],
   "source": [
    "test_pymp(10)"
   ]
  },
  {
   "cell_type": "markdown",
   "id": "8f89a2a9",
   "metadata": {},
   "source": [
    "The final result is the same. However, there is no order of computing.\n",
    "\n",
    "We can use **pymp** to parallelize the code of our previous function `edistance_np`. Instead of using a loop we can use a pool of threads where each thread processes one row. For this we define a new function that works only with one row and the matrix."
   ]
  },
  {
   "cell_type": "code",
   "execution_count": null,
   "id": "1a7e9bd1",
   "metadata": {},
   "outputs": [],
   "source": [
    "import pymp\n",
    "\n",
    "def edistance_mp(args):\n",
    "    row, matrix = args\n",
    "    return np.sqrt(np.sum((row - matrix) ** 2, axis=1))\n",
    "\n",
    "\n",
    "def edistance_pymp(matrix1, matrix2):\n",
    "    # Shared memory \n",
    "    output = pymp.shared.array((matrix1.shape[0], matrix2.shape[0]), dtype='float64')\n",
    "    n_threads = 5\n",
    "    with pymp.Parallel(n_threads) as p: # Parallel block\n",
    "        for index in p.range(matrix1.shape[0]): # Parallel loop\n",
    "            # Complete the function\n",
    "\n",
    "    return output\n",
    "\n",
    "result_pymp = edistance_pymp(A, B)"
   ]
  },
  {
   "cell_type": "code",
   "execution_count": null,
   "id": "6c38542d",
   "metadata": {},
   "outputs": [],
   "source": [
    "time_pymp = %timeit -o result_pymp = edistance_pymp(A, B)"
   ]
  },
  {
   "cell_type": "markdown",
   "id": "b3a9e080",
   "metadata": {},
   "source": [
    "It's a similar approach and outcome (in terms of performance) as multiprocessing. Nonetheless, PyMP may not have as extensive documentation and community support as more widely used libraries like NumPy, scikit-learn, or multiprocessing. Be prepared to refer to the library's documentation and possibly dive into its source code for more advanced usage."
   ]
  },
  {
   "cell_type": "markdown",
   "id": "20e089e0-d82d-4141-a294-88e45600365a",
   "metadata": {},
   "source": [
    "**Processes vs Threads**\n",
    "\n",
    "- **Processes** are isolated, heavyweight, and safer but have more overhead and complex communication.\n",
    "- **Threads** are lightweight, share memory, and communicate easily but can affect each other if one crashes."
   ]
  },
  {
   "cell_type": "markdown",
   "id": "b67e6524",
   "metadata": {},
   "source": [
    "## 6. Numba <a name=\"numba\"></a>\n",
    "\n",
    "Numba is an open source JIT compiler that translates a subset of Python and NumPy code into fast machine code. \n",
    "\n",
    "Numba translates Python functions to optimized machine code at runtime using the industry-standard LLVM compiler library.\n",
    "\n",
    "You don't need to replace the Python interpreter, run a separate compilation step, or even have a C/C++ compiler installed. Just apply one of the Numba decorators to your Python function, and Numba does the rest. \n",
    "\n",
    "For more information: https://numba.pydata.org/\n",
    "\n",
    "------------------------\n",
    "\n",
    "By definition, a decorator is a function that takes another function and extends the behavior of the latter function without explicitly modifying it.\n",
    "\n",
    "The following two pieces of code are equivalent:\n",
    "\n",
    "\n",
    "<table>\n",
    "<tr>\n",
    "<th style=\"text-align: center;\" width=\"50%\">With decorators</th>\n",
    "<th style=\"text-align: center;\" width=\"50%\">Without decorators</th>\n",
    "</tr>\n",
    "<tr>\n",
    "<td style=\"text-align: left;\">\n",
    "    \n",
    "```python\n",
    "@dec2\n",
    "@dec1\n",
    "def func(arg1, arg2, ...):\n",
    "    pass\n",
    "```\n",
    "</td>\n",
    "<td style=\"text-align: left;\">\n",
    "\n",
    "```python\n",
    "def func(arg1, arg2, ...):\n",
    "    pass\n",
    "func = dec2(dec1(func))\n",
    "```\n",
    "\n",
    "</td>\n",
    "</tr>\n",
    "</table>\n",
    "\n",
    "\n",
    "More info: https://peps.python.org/pep-0318/\n",
    "\n",
    "------------------------\n",
    "\n",
    "The code is quite similar to the Numpy implementation presented previously. Main additions are the decorators with parameters `parallel` and `nopython` set to true. \n",
    "\n",
    "- The `@jit` decorator stands for \"Just-In-Time\" compilation and is used to instruct Numba to compile a Python function to machine code for performance improvements.\n",
    "- The parallel option is used with `@jit` to enable parallel execution of loops within the decorated function.\n",
    "- Nopython mode is more aggressive in optimizing code. It aims to generate code that does not rely on the Python C-API (Python's internal C interface), resulting in potentially faster code.\n",
    "\n",
    "**Install Numba package:**"
   ]
  },
  {
   "cell_type": "code",
   "execution_count": null,
   "id": "19222425-78fb-4290-ac34-6afccd66dcda",
   "metadata": {},
   "outputs": [],
   "source": [
    "#!pip install numba #Do it once"
   ]
  },
  {
   "cell_type": "code",
   "execution_count": null,
   "id": "ffaf3bde",
   "metadata": {},
   "outputs": [],
   "source": [
    "import numpy as np\n",
    "from numba import jit, prange\n",
    "\n",
    "@jit(parallel=True, nopython=True) # Decorator\n",
    "def edistance_numba(matrix1, matrix2):\n",
    "    output = np.zeros((matrix1.shape[0], matrix2.shape[0]))\n",
    "    for i in prange(matrix1.shape[0]): # Note the use of prange\n",
    "        for j in range(matrix2.shape[0]):\n",
    "            diff = matrix1[i] - matrix2[j]\n",
    "            squared_diff = diff * diff\n",
    "            output[i, j] = np.sqrt(np.sum(squared_diff))\n",
    "    return output\n",
    "\n",
    "# Example usage\n",
    "result_numba = edistance_numba(A, B)"
   ]
  },
  {
   "cell_type": "code",
   "execution_count": null,
   "id": "1490b2d9",
   "metadata": {},
   "outputs": [],
   "source": [
    "time_numba = %timeit -o results_numba = edistance_numba(A, B)"
   ]
  },
  {
   "cell_type": "markdown",
   "id": "9c8a75aa",
   "metadata": {},
   "source": [
    "The execution speed is much faster than the previous versions. Mainly because it takes advantages from compilation and parallelization."
   ]
  },
  {
   "cell_type": "markdown",
   "id": "9c38e304",
   "metadata": {},
   "source": [
    "## Result validation\n",
    "\n",
    "We can check the results of each version with the ``np.allclose()`` function. "
   ]
  },
  {
   "cell_type": "code",
   "execution_count": null,
   "id": "76861065",
   "metadata": {},
   "outputs": [],
   "source": [
    "# You can specify a tolerance (e.g., 0.01) for floating-point comparisons\n",
    "tolerance = 0.01\n",
    "print('Python and Numpy results are equal:', np.allclose(result_python, result_numpy, atol=tolerance))\n",
    "print('Numpy and Multiprocessing results are equal:', np.allclose(result_numpy, result_multiproc, atol=tolerance))\n",
    "print('Multiprocessing and PyMP results are equal:', np.allclose(result_multiproc, result_pymp, atol=tolerance))\n",
    "print('PyMP and Numba results are equal:', np.allclose(result_pymp, result_numba, atol=tolerance))"
   ]
  },
  {
   "cell_type": "markdown",
   "id": "5b136143",
   "metadata": {},
   "source": [
    "## Plot the results\n",
    "\n",
    "Using matplotlib we generate a grouped bar plot with the results of the experiment."
   ]
  },
  {
   "cell_type": "code",
   "execution_count": null,
   "id": "cfbe8f24",
   "metadata": {},
   "outputs": [],
   "source": [
    "import matplotlib.pyplot as plt\n",
    "# if using a Jupyter notebook, include:\n",
    "%matplotlib inline\n",
    "plt.rcParams['figure.figsize'] = [12, 6]\n",
    "# Create arrays for the plot\n",
    "version = ['Python', 'Numpy', 'PyMP', 'Numba']\n",
    "c = ['blue', 'blue', 'orange', 'orange', 'orange']\n",
    "x_pos = np.arange(len(version))\n",
    "time = [time_python.best, time_numpy.best, time_pymp.best, time_numba.best]\n",
    "\n",
    "colors = {'CPU Singlecore':'blue', 'CPU Multicore':'orange'}\n",
    "labels = list(colors.keys())\n",
    "handles = [plt.Rectangle((0,0),1,1, color=colors[label]) for label in labels]\n",
    "\n",
    "# Build the plot\n",
    "fig, ax = plt.subplots()\n",
    "ax.bar(x_pos, time, align='center', color=c)\n",
    "ax.legend(handles, labels)\n",
    "ax.set_ylabel('Time in seconds')\n",
    "ax.set_xticks(x_pos)\n",
    "ax.set_xticklabels(version)\n",
    "#ax.set_title('Benchmark of Accelerating Soft-supervised training algorithm')\n",
    "ax.yaxis.grid(True)\n",
    "\n",
    "# Save the figure and show\n",
    "plt.tight_layout()\n",
    "# Text on the top of each bar\n",
    "for index,data in enumerate(time):\n",
    "    plt.text(x=index-0.1 , y =data+0.1 , s=f\"{round(data,2)}\" , fontdict=dict(fontsize=14))\n",
    "#plt.savefig('bm_results1.eps') # Uncomment if want to save file\n",
    "plt.show()\n"
   ]
  },
  {
   "cell_type": "code",
   "execution_count": null,
   "id": "8f30506f",
   "metadata": {},
   "outputs": [],
   "source": [
    "# Create arrays for the plot\n",
    "version = ['Numpy', 'Multiproc', 'PyMP', 'Numba']\n",
    "c = ['blue', 'orange', 'orange', 'orange', 'orange']\n",
    "x_pos = np.arange(len(version))\n",
    "time = [time_numpy.best, time_multiproc.best, time_pymp.best, time_numba.best]\n",
    "\n",
    "# Build the plot\n",
    "fig, ax = plt.subplots()\n",
    "ax.bar(x_pos, time, align='center', color=c)\n",
    "ax.legend(handles, labels)\n",
    "ax.set_ylabel('Time in seconds')\n",
    "ax.set_xticks(x_pos)\n",
    "ax.set_xticklabels(version)\n",
    "ax.set_yscale('log')\n",
    "#ax.set_title('Benchmark of Accelerating Euclidean-distance algorithm')\n",
    "ax.yaxis.grid(True)\n",
    "\n",
    "# Save the figure and show\n",
    "plt.tight_layout()\n",
    "# Text on the top of each bar\n",
    "for index,data in enumerate(time):\n",
    "    plt.text(x=index-0.1 , y =data+0.025 , s=f\"{round(data,3)}\" , fontdict=dict(fontsize=14))\n",
    "#plt.savefig('bm_results2.eps') # Uncomment if want to save file\n",
    "plt.show()"
   ]
  },
  {
   "cell_type": "markdown",
   "id": "727c1f0c-e1df-4dbb-b71e-a6614d0d0e75",
   "metadata": {},
   "source": [
    "## 7. Pandas + Numba <a name=\"pandas_numba\"></a>\n",
    "\n",
    "A custom Python function decorated with @jit can be used with pandas objects by passing their NumPy array representations with `Series.to_numpy()`.\n",
    "\n",
    "### Generate random data"
   ]
  },
  {
   "cell_type": "code",
   "execution_count": null,
   "id": "b3556993-b236-4b0d-b474-a59562449aa3",
   "metadata": {},
   "outputs": [],
   "source": [
    "#!pip install pandas"
   ]
  },
  {
   "cell_type": "code",
   "execution_count": null,
   "id": "e3bc442c-8587-49c5-8acb-d2becddfa8cb",
   "metadata": {},
   "outputs": [],
   "source": [
    "import pandas as pd\n",
    "import math\n",
    "import time\n",
    "import numpy as np\n",
    "\n",
    "# Create random data\n",
    "rows = 7500\n",
    "cols = 7500\n",
    "np.random.seed(699)\n",
    "random_data = np.random.rand(rows*cols).reshape((rows,cols))\n",
    "\n",
    "# Create dataframe\n",
    "df = pd.DataFrame(data=random_data)\n",
    "del random_data\n",
    "df.head()"
   ]
  },
  {
   "cell_type": "markdown",
   "id": "111d0dde-734d-4edc-b14f-6998caa5bb11",
   "metadata": {},
   "source": [
    "### Declare functions\n",
    "\n",
    "We declare some functions that perform some *heavy computation*:\n",
    "- `slow_computation_nonumba(x)` Does not uses Numba.\n",
    "- `slow_computation_numba(x)` Uses Numba.\n",
    "- `slow_computation_numba_wrapper(x)` Calls `slow_computation_numba(x)` because numba does not accept a pandas dataframe (or series) as argument."
   ]
  },
  {
   "cell_type": "code",
   "execution_count": null,
   "id": "6b9e546c-5759-4678-8497-cb7b6bba796d",
   "metadata": {},
   "outputs": [],
   "source": [
    "from numba import jit\n",
    "\n",
    "# Custom slow computation function\n",
    "def slow_computation_nonumba(x):\n",
    "    # Perform a series of mathematical operations\n",
    "    rows_sum = 0.0\n",
    "    for row in x:\n",
    "        rows_sum += row\n",
    "    result = np.exp(rows_sum/100)  # Exponentiation\n",
    "    result += np.sin(rows_sum)  # Sine\n",
    "    result += np.cos(rows_sum)  # Cosine\n",
    "    result += np.log(rows_sum + 1)  # Logarithm (to avoid log(0))\n",
    "    result *= np.sqrt(rows_sum)  # Square root\n",
    "\n",
    "    return result\n",
    "\n",
    "# Custom slow computation function\n",
    "@jit(parallel=True, nopython=True) # Decorator\n",
    "def slow_computation_numba(x):\n",
    "    # Perform a series of mathematical operations\n",
    "    rows_sum = 0.0\n",
    "    for row in x:\n",
    "        rows_sum += row\n",
    "    result = np.exp(rows_sum/100)  # Exponentiation\n",
    "    result += np.sin(rows_sum)  # Sine\n",
    "    result += np.cos(rows_sum)  # Cosine\n",
    "    result += np.log(rows_sum + 1)  # Logarithm (to avoid log(0))\n",
    "    result *= np.sqrt(rows_sum)  # Square root\n",
    "    return result\n",
    "\n",
    "# Wrapper function because numba cannot accept pandas dataframe type as argument\n",
    "def slow_computation_numba_wrapper(x):\n",
    "    return slow_computation_numba(x.to_numpy())"
   ]
  },
  {
   "cell_type": "markdown",
   "id": "7c3a21e6-b870-4898-bbaf-f02ea95bbc7b",
   "metadata": {},
   "source": [
    "#### Compare with pandas dataframe apply function\n",
    "\n",
    "The following applies the function at column level."
   ]
  },
  {
   "cell_type": "code",
   "execution_count": null,
   "id": "ad3f2a4b-a3e6-43a2-8aca-f5a7f1482b0f",
   "metadata": {},
   "outputs": [],
   "source": [
    "%timeit -n1 -r1 -o results = df.apply(slow_computation_nonumba)"
   ]
  },
  {
   "cell_type": "code",
   "execution_count": null,
   "id": "9772f883-6e70-40ca-a0d6-38b6d272f729",
   "metadata": {},
   "outputs": [],
   "source": [
    "%timeit -n1 -r1 -o results = df.apply(slow_computation_numba_wrapper)"
   ]
  },
  {
   "cell_type": "markdown",
   "id": "078f57f5-d04b-4ff0-81dd-ef1d8fdbb787",
   "metadata": {},
   "source": [
    "#### Compare with passing the dataframe as a numpy array\n",
    "\n",
    "`dataframe.apply()` works at column level (axis=0) if we pass a numpy array we need to work at column and row level to get the same result."
   ]
  },
  {
   "cell_type": "code",
   "execution_count": null,
   "id": "ca539417-2bd1-42e4-9ed9-54cd0aa6a2c2",
   "metadata": {},
   "outputs": [],
   "source": [
    "from numba import jit, prange\n",
    "\n",
    "# Custom slow computation function without Numba\n",
    "def slow_computation_nonumba_np(x):\n",
    "    # Perform a series of mathematical operations\n",
    "    result = np.zeros((x.shape[1], ), dtype=x.dtype)\n",
    "    for i in range(x.shape[1]): # Iterate over columns\n",
    "        rows_sum = 0.0\n",
    "        for j in range(x.shape[0]): # Iterate over rows\n",
    "            rows_sum += x[j,i]\n",
    "        tmp = np.exp(rows_sum/100)  # Exponentiation\n",
    "        tmp += np.sin(rows_sum)  # Sine\n",
    "        tmp += np.cos(rows_sum)  # Cosine\n",
    "        tmp += np.log(rows_sum + 1)  # Logarithm (to avoid log(0))\n",
    "        tmp *= np.sqrt(rows_sum)  # Square root\n",
    "        result[i] = tmp\n",
    "    return result\n",
    "\n",
    "# Custom slow computation function with Numba\n",
    "@jit(parallel=True, nopython=True) # Decorator\n",
    "def slow_computation_numba_np(x):\n",
    "    # Perform a series of mathematical operations\n",
    "    result = np.zeros((x.shape[1], ), dtype=x.dtype)\n",
    "    for i in range(x.shape[1]): # Iterate over columns\n",
    "        rows_sum = 0.0\n",
    "        for j in range(x.shape[0]): # Iterate over rows\n",
    "            rows_sum += x[j,i]\n",
    "        tmp = np.exp(rows_sum/100)  # Exponentiation\n",
    "        tmp += np.sin(rows_sum)  # Sine\n",
    "        tmp += np.cos(rows_sum)  # Cosine\n",
    "        tmp += np.log(rows_sum + 1)  # Logarithm (to avoid log(0))\n",
    "        tmp *= np.sqrt(rows_sum)  # Square root\n",
    "        result[i] = tmp\n",
    "    return result"
   ]
  },
  {
   "cell_type": "code",
   "execution_count": null,
   "id": "9857b221-2add-4ab5-a407-737de1f2e9d2",
   "metadata": {},
   "outputs": [],
   "source": [
    "df_np = df.to_numpy() # Convert dataframe to numpy array"
   ]
  },
  {
   "cell_type": "code",
   "execution_count": null,
   "id": "cccc81ba-f9a1-4fac-96ea-f11e34d75a9e",
   "metadata": {},
   "outputs": [],
   "source": [
    "%timeit -o results = slow_computation_nonumba_np(df_np)"
   ]
  },
  {
   "cell_type": "code",
   "execution_count": null,
   "id": "1bae9b8a-9e02-4d57-9705-4a88d149d47b",
   "metadata": {},
   "outputs": [],
   "source": [
    "%timeit -o results = slow_computation_numba_np(df_np)"
   ]
  },
  {
   "cell_type": "code",
   "execution_count": null,
   "id": "fd1e703c-a037-480f-a6bb-d28f97e661bd",
   "metadata": {},
   "outputs": [],
   "source": [
    "results_apply_nonumba = df.apply(slow_computation_nonumba)\n",
    "results_apply_numba = df.apply(slow_computation_numba_wrapper)\n",
    "results_np_nonumba = slow_computation_nonumba_np(df_np)\n",
    "results_np_numba = slow_computation_numba_np(df_np)\n",
    "tolerance = 0.01\n",
    "print('Pandas apply No numba and Numba implementation are equal:', np.allclose(results_apply_nonumba, results_apply_numba))\n",
    "print('Direct function with Numpy No numba and Numba implementation are equal:', np.allclose(results_np_nonumba, results_np_numba))\n",
    "print('Apply implementations and direct functions with Numpy equal:', np.allclose(results_apply_nonumba, results_np_nonumba))"
   ]
  },
  {
   "cell_type": "markdown",
   "id": "709eeb3d",
   "metadata": {},
   "source": [
    "## 8. Benchmarking: More cores equals more speed? <a name=\"benchmarking\"></a>\n",
    "\n",
    "\n",
    "We've carried out a benchmark involving a range of matrix sizes and experimented with different thread configurations. The benchmark script has been run (please note, it takes some time to complete), and the results are tabulated below for your reference. The row index corresponds to the matrix sizes, while the column names specify the library used and, where applicable, the number of threads employed.\n",
    "\n",
    "\n",
    "We integrated Numba into our benchmark and observed that, compared to other implementations, it consistently delivers the fastest execution times. Furthermore, transitioning to Numba from existing Numpy code demands minimal effort—typically involving the addition of decorators and parallel loops to your existing codebase. This streamlined integration process makes it an attractive choice for optimizing performance in computationally intensive tasks.\n",
    "\n",
    "To do this we are going to use pandas:"
   ]
  },
  {
   "cell_type": "code",
   "execution_count": null,
   "id": "eee36ffc",
   "metadata": {},
   "outputs": [],
   "source": [
    "import pandas as pd\n",
    "\n",
    "df_mp = pd.read_csv(\"exp_mp_results_tmp.csv\", index_col=0)\n",
    "#df_mp = df_mp.round(2)\n",
    "\n",
    "\n",
    "# Display the rounded DataFrame with four decimal places\n",
    "#pd.options.display.float_format = '{:.2f}'.format\n",
    "\n",
    "# Function to highlight the minimum value in each row with green\n",
    "def highlight_min(s):\n",
    "    is_min = s == s.min()\n",
    "    return ['background-color: lightgreen' if v else '' for v in is_min]\n",
    "\n",
    "# Function to highlight the maximum value in each row with light red\n",
    "def highlight_max(s):\n",
    "    is_max = s == s.max()\n",
    "    return ['background-color: lightcoral' if v else '' for v in is_max]\n",
    "\n",
    "# Apply the functions when displaying the DataFrame\n",
    "df_mp.style.apply(highlight_min, axis=1).apply(highlight_max, axis=1)"
   ]
  },
  {
   "cell_type": "markdown",
   "id": "971a9224",
   "metadata": {},
   "source": [
    "We've marked the fastest execution in green and the slowest in red.\n",
    "\n",
    "As we can see in this case, having more cores doesn't necessarily translate to greater speed. Utilizing parallelization techniques introduces overhead, as evidenced by the fact that using 128 cores with smaller matrix sizes results in the poorest execution speed.\n",
    "\n",
    "After matrices are of size 3,000 or larger NumPy is always slower than using multiprocessing with any number of threads.\n",
    "\n",
    "After matrices are of size 4,000 or larger using 25 threads yields the fastest execution speed.\n",
    "\n",
    "\n",
    "## 9. Conclusions / take away<a name=\"conclusions\"></a>\n",
    "\n",
    "Important note: keep in mind that the results presented in this notebook are for a specific use case. Different scenarios may yield varying results, and alternate approaches, such as multiprocessing or PyMP, may prove more effective in certain contexts. There is no one-size-fits-all solution. \n",
    "\n",
    "\n",
    "- Starting with Numba is a recommended practice due to its minimal time investment requirement and potential for performance optimization.\n",
    "- Multiprocessing and PyMP are programed more or less similar, but with some important differences. For example, multiprocessing spawns processes and PyMP uses threads. Additionally, multiprocessing offers a more extensive documentation compared to PyMP.\n",
    "- - If there is only numerical computations, combining Numpy with Numba is the best option.\n",
    "- If there are non-numerical computation or a black box (uknown) function or third party library it is best to use multiprocessing or PyMP."
   ]
  }
 ],
 "metadata": {
  "kernelspec": {
   "display_name": "Python 3 (ipykernel)",
   "language": "python",
   "name": "python3"
  },
  "language_info": {
   "codemirror_mode": {
    "name": "ipython",
    "version": 3
   },
   "file_extension": ".py",
   "mimetype": "text/x-python",
   "name": "python",
   "nbconvert_exporter": "python",
   "pygments_lexer": "ipython3",
   "version": "3.11.3"
  }
 },
 "nbformat": 4,
 "nbformat_minor": 5
}
